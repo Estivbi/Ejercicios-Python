{
 "cells": [
  {
   "cell_type": "markdown",
   "metadata": {},
   "source": [
    "# Ejercicios Modulo 2. Tipos avanzados\n",
    "\n",
    "Consideraciones a tener en cuenta: \n",
    "\n",
    "* Guardar este documento con el siguiente formato para su entrega: __M2_04_nombre_apellido1_apellido2__\n",
    "* Realizar los ejercicios con las herramientas vistas en las sesiones. Aún no hemos llegado a condicionales ni bucles\n",
    "* Comentar el código\n",
    "* Utilizar nombres de variables apropiados, si vais a guardar una nota, llamar a esa variable nota, no n o x"
   ]
  },
  {
   "cell_type": "markdown",
   "metadata": {},
   "source": [
    "## Ejercicios de tipos avanzados"
   ]
  },
  {
   "cell_type": "markdown",
   "metadata": {},
   "source": [
    "**1) Trabajemos con listas y tuplas**\n",
    "* Crea una lista y una tupla que contenga strings (al menos 3 elementos). Tematica libre, sobre lo que quieras, vehiculos, comida, música, etc.\n",
    "* Muestra la lista y la tupla\n",
    "* Muestra el 2º elemento de la lista y el penúltimo de la tupla\n",
    "* Modifica (si se puede) algún elemento de la lista y de la tupla. Y mostrar el resultado\n",
    "* Muestra el tamaño de la lista y de la tupla\n",
    "* Realiza una búsqueda de un elemento dentro de la lista y de la tupla. Mostrar si devuelve True o False\n",
    "* Añade (si se puede) algún elemento a la lista y a la tupla. Mostrar de nuevo la lista y la tupla para verificar si se ha realizado correctamente la acción.\n",
    "* Borra o elimina (si se puede) el contenido de la lista y de la tupla. Mosstrar de nuevo la lista y la tupla para verificar si se ha realizado correctamente la acción\n",
    "\n"
   ]
  },
  {
   "cell_type": "code",
   "execution_count": 1,
   "metadata": {},
   "outputs": [
    {
     "name": "stdout",
     "output_type": "stream",
     "text": [
      "Esto es una lista:  ['\\nPlaystation', 'Nintendo Switch', 'Xbox']\n",
      "Xbox\n",
      "Muestro que consolas tengo en la lista:  ['\\nPlaystation', 'Nintendo Switch', 'Xbox']\n",
      "Contenido actual de la lista:  ['\\nPlaystation', 'Nintendo Switch', 'Steam Deck']\n",
      "El tamaño de la lista es:  3\n",
      "Esta la consola Playstation en la lista?:  False\n",
      "Vemos como se añade otra consola al final de la lista:  ['\\nPlaystation', 'Nintendo Switch', 'Steam Deck', 'Xbox']\n",
      "La lista ha sido borrada:  []\n",
      "[]\n"
     ]
    }
   ],
   "source": [
    "#ejemplo para lista#\n",
    "tiposDeConsolas = [\"\\nPlaystation\", \"Nintendo Switch\", \"Xbox\"]\n",
    "print(\"Esto es una lista: \", tiposDeConsolas)\n",
    "\n",
    "#Mostrar el segundo elemento de la lista#\n",
    "print(tiposDeConsolas[2])\n",
    "\n",
    "#Modifica (si se puede) algún elemento de la lista. Y mostrar el resultado#\n",
    "print(\"Muestro que consolas tengo en la lista: \", tiposDeConsolas)\n",
    "tiposDeConsolas[2] = \"Steam Deck\"\n",
    "print(\"Contenido actual de la lista: \", tiposDeConsolas)\n",
    "\n",
    "#Muestra el tamaño de la lista#\n",
    "print(\"El tamaño de la lista es: \", len(tiposDeConsolas))\n",
    "\n",
    "#Realiza una búsqueda de un elemento dentro de la lista. Mostrar si devuelve True o False#\n",
    "print(\"Esta la consola Playstation en la lista?: \",\"Playstation\" in tiposDeConsolas)\n",
    "\n",
    "#Añade (si se puede) algún elemento a la lista. Mostrar de nuevo la lista para verificar si se ha realizado correctamente la acción.#\n",
    "tiposDeConsolas.append(\"Xbox\")\n",
    "print(\"Vemos como se añade otra consola al final de la lista: \", tiposDeConsolas)\n",
    "\n",
    "#Borra o elimina (si se puede) el contenido de la lista. Mosstrar de nuevo la lista para verificar si se ha realizado correctamente la acción#\n",
    "tiposDeConsolas = []\n",
    "print(\"La lista ha sido borrada: \", tiposDeConsolas)\n",
    "print(tiposDeConsolas)"
   ]
  },
  {
   "cell_type": "code",
   "execution_count": 2,
   "metadata": {},
   "outputs": [
    {
     "name": "stdout",
     "output_type": "stream",
     "text": [
      "\n",
      "Esto es una tupla:  ('Playstation', 'Nintendo Switch', 'Xbox')\n",
      "Nintendo Switch\n",
      "El tamaño de la tupla es:  3\n",
      "Esta la consola SteamDeck en la tupla?:  False\n",
      "La tupla ha sido borrada:  ()\n",
      "No debería borrar la tupla pero jupyter me borra el contenido de esta\n"
     ]
    }
   ],
   "source": [
    "#Ejemplo para tupla#\n",
    "tiposDeConsolas = (\"Playstation\", \"Nintendo Switch\", \"Xbox\")\n",
    "print(\"\\nEsto es una tupla: \", tiposDeConsolas)\n",
    "\n",
    "#Mostrar el penultimo elemento de la tupla#\n",
    "print(tiposDeConsolas[1])\n",
    "\n",
    "#Modifica (si se puede) algún elemento de la tupla. Y mostrar el resultado#\n",
    "\"\"\"\"print(\"Muestro que consolas tengo en la tupla: \", tiposDeConsolas)\n",
    "tiposDeConsolas[2] = \"Steam Deck\"\n",
    "print(\"Esta operación no se puede realizar porque no son modificables: \", tiposDeConsolas)\"\"\"\n",
    "\n",
    "#Muestra el tamaño de la tupla#\n",
    "print(\"El tamaño de la tupla es: \", len(tiposDeConsolas))\n",
    "\n",
    "#Realiza una búsqueda de un elemento dentro de la tupla. Mostrar si devuelve True o False#\n",
    "print(\"Esta la consola SteamDeck en la tupla?: \",\"Steam Deck\" in tiposDeConsolas)\n",
    "\n",
    "#Añade (si se puede) algún elemento a la tupla. Mostrar de nuevo la tupla para verificar si se ha realizado correctamente la acción.#\n",
    "\"\"\"\"print(\"Al ejecutar veremos que nos da error porque no se pueden modificar las tuplas\")\n",
    "tiposDeConsolas.append(\"Steam Deck\")\n",
    "print(tiposDeConsolas)\"\"\"\n",
    "\n",
    "#Borra o elimina (si se puede) el contenido de la tupla. Mosstrar de nuevo la tupla para verificar si se ha realizado correctamente la acción#\n",
    "tiposDeConsolas = ()\n",
    "print(\"La tupla ha sido borrada: \", tiposDeConsolas)\n",
    "print(\"No debería borrar la tupla pero jupyter me borra el contenido de esta\")"
   ]
  },
  {
   "cell_type": "markdown",
   "metadata": {},
   "source": [
    "**2) Trabajemos con sets y diccionarios**\n",
    "* Crea una set y un diccionario que contengan strings (al menos 3 elementos en el caso del set y 3 conjuntos de clave:valor en el caso del diccionario). Tematica libre, sobre lo que quieras, vehiculos, comida, música, etc.\n",
    "* Muestra el set y el diccionario\n",
    "* Muestra (si se puede) el 2º elemento del set y el valor del primer clave-valor del diccionario\n",
    "* Modifica (si se puede) algún elemento del set o del diccionario. Y mostrar el resultado\n",
    "* Muestra el tamaño del set y del diccionario\n",
    "* Realiza una búsqueda de un elemento dentro del set y dentro del diccionario. Mostrar si devuelve True o False\n",
    "* Añade (si se puede) algún elemento al set y algun clave-valor al diccionario. Mostrar de nuevo el set y el diccionario para verificar si se ha realizado correctamente la acción.\n",
    "* Borra o elimina (si se puede) el contenido del set y del diccionario. Mosstrar de nuevo el set y el diccionario para verificar si se ha realizado correctamente la acción\n",
    "\n"
   ]
  },
  {
   "cell_type": "code",
   "execution_count": 3,
   "metadata": {},
   "outputs": [
    {
     "name": "stdout",
     "output_type": "stream",
     "text": [
      "\n",
      "Esto es un set:  {'Plataformas', 'Accion', 'Aventuras', 'Terror'}\n",
      "No se puede acceder  a los elementos de un conjunto set haciendo referencia a un índice, \n",
      "ya que los conjuntos no están ordenados, los elementos no tienen índice.\n",
      "No son modificables, pero si se pueden añadir mas elementos como se mostrará mas adelante\n",
      "El tamaño del set es:  4\n",
      "Esta el tipo de videojuego 'Aventuras' en el set?:  True\n",
      "Se ha añadido un nuevo tipo de videojuego {'Plataformas', 'Accion', 'Rol', 'Aventuras', 'Terror'}\n",
      "El contenido del set ha sido borrado:  set()\n"
     ]
    }
   ],
   "source": [
    "#Ejemplo para Sets#\n",
    "tiposDeVideojuegos = {\"Accion\", \"Plataformas\", \"Terror\", \"Aventuras\"}\n",
    "print(\"\\nEsto es un set: \", tiposDeVideojuegos)\n",
    "\n",
    "#Muestra (si se puede) el 2º elemento del set#\n",
    "print(\"No se puede acceder  a los elementos de un conjunto set haciendo referencia a un índice, \\nya que los conjuntos no están ordenados, los elementos no tienen índice.\")\n",
    "\n",
    "#Modifica (si se puede) algún elemento del set. Y mostrar el resultado#\n",
    "print(\"No son modificables, pero si se pueden añadir mas elementos como se mostrará mas adelante\")\n",
    "\n",
    "#Muestra el tamaño del set#\n",
    "print(\"El tamaño del set es: \", len(tiposDeVideojuegos))\n",
    "\n",
    "#Realiza una búsqueda de un elemento dentro del set. Mostrar si devuelve True o False#\n",
    "print(\"Esta el tipo de videojuego 'Aventuras' en el set?: \",\"Aventuras\" in tiposDeVideojuegos)\n",
    "\n",
    "#Añade (si se puede) algún elemento al set. Mostrar de nuevo el set  para verificar si se ha realizado correctamente la acción.#\n",
    "tiposDeVideojuegos.add(\"Rol\")\n",
    "print(\"Se ha añadido un nuevo tipo de videojuego\", tiposDeVideojuegos)\n",
    "\n",
    "#Borra o elimina (si se puede) el contenido del set. Mosstrar de nuevo el set para verificar si se ha realizado correctamente la acción#\n",
    "tiposDeVideojuegos.clear()\n",
    "print(\"El contenido del set ha sido borrado: \", tiposDeVideojuegos)"
   ]
  },
  {
   "cell_type": "code",
   "execution_count": 4,
   "metadata": {},
   "outputs": [
    {
     "name": "stdout",
     "output_type": "stream",
     "text": [
      "\n",
      "Esto es un diccionario:  {'Accion': 'Tomb Raider', 'Plataformas': 'Hollow Knight', 'Terror': 'Dead by Daylight', 'Aventuas': 'The Legend of Zelda'}\n",
      "Tomb Raider\n",
      "Esto es el diccionario original:  {'Accion': 'Tomb Raider', 'Plataformas': 'Hollow Knight', 'Terror': 'Dead by Daylight', 'Aventuas': 'The Legend of Zelda'}\n",
      "Este es el diccionario modificado:  {'Accion': 'Tomb Raider', 'Plataformas': 'Hollow Knight', 'Terror': 'Resident Evil', 'Aventuas': 'The Legend of Zelda'}\n",
      "El tamaño del diccionario es:  4\n",
      "Esta en el diccionario el tipo de videjuego 'Rol'?:  False\n",
      "Se ha añadido un nuevo tipo de videojuegos:  {'Accion': 'Tomb Raider', 'Plataformas': 'Hollow Knight', 'Terror': 'Resident Evil', 'Aventuas': 'The Legend of Zelda', 'Rol': 'Skyrim'}\n",
      "El contenido del diccionario ha sido borrado:  {}\n"
     ]
    }
   ],
   "source": [
    "#Ejemplo para Diccionarios#\n",
    "tiposDeVideojuegos = {\n",
    "    \"Accion\":\"Tomb Raider\",\n",
    "    \"Plataformas\":\"Hollow Knight\",\n",
    "    \"Terror\":\"Dead by Daylight\",\n",
    "    \"Aventuas\":\"The Legend of Zelda\"\n",
    "}\n",
    "print(\"\\nEsto es un diccionario: \", tiposDeVideojuegos)\n",
    "\n",
    "#Muestra (si se puede) el valor del primer clave-valor del diccionario#\n",
    "primerClaveValor = tiposDeVideojuegos[\"Accion\"]\n",
    "print(primerClaveValor)\n",
    "\n",
    "#Modifica (si se puede) algún elemento del diccionario. Y mostrar el resultado#\n",
    "tiposDeVideojuegos = {\n",
    "    \"Accion\":\"Tomb Raider\",\n",
    "    \"Plataformas\":\"Hollow Knight\",\n",
    "    \"Terror\":\"Dead by Daylight\",\n",
    "    \"Aventuas\":\"The Legend of Zelda\"\n",
    "}\n",
    "print(\"Esto es el diccionario original: \", tiposDeVideojuegos)\n",
    "tiposDeVideojuegos[\"Terror\"] = \"Resident Evil\"\n",
    "print(\"Este es el diccionario modificado: \", tiposDeVideojuegos)\n",
    "\n",
    "#Muestra el tamaño del diccionario#\n",
    "print(\"El tamaño del diccionario es: \", len(tiposDeVideojuegos))\n",
    "\n",
    "#Realiza una búsqueda de un elemento dentro del diccionario. Mostrar si devuelve True o False#\n",
    "print(\"Esta en el diccionario el tipo de videjuego 'Rol'?: \", \"Rol\" in tiposDeVideojuegos)\n",
    "\n",
    "#Añade (si se puede) algún elemento algun clave-valor al diccionario. Mostrar de nuevo el diccionario para verificar si se ha realizado correctamente la acción.#\n",
    "tiposDeVideojuegos[\"Rol\"] = \"Skyrim\"\n",
    "print(\"Se ha añadido un nuevo tipo de videojuegos: \", tiposDeVideojuegos)\n",
    "\n",
    "#Borra o elimina (si se puede) el contenido del diccionario. Mostrar de nuevo el diccionario para verificar si se ha realizado correctamente la acción#\n",
    "tiposDeVideojuegos.clear()\n",
    "print(\"El contenido del diccionario ha sido borrado: \", tiposDeVideojuegos)"
   ]
  },
  {
   "cell_type": "markdown",
   "metadata": {},
   "source": [
    "**3) Realizar un programa que pida al usuario 3 números que pueden ser flotantes (no es necesario realizar bucles aún, podemos repetir el código), estos números se deberán introducir en una lista. Cuando se haya finalizado la introducción de los datos, se mostrará el sumatorio de toda la lista. Guardar el sumatorio en una variable que se llame \"sumatorio\"**\n",
    "\n",
    "*Ayuda: Existe una función llamada sum(lista) ¡Pruébalo!*"
   ]
  },
  {
   "cell_type": "code",
   "execution_count": 5,
   "metadata": {},
   "outputs": [
    {
     "name": "stdout",
     "output_type": "stream",
     "text": [
      "Escriba un numero: 15\n",
      "Escriba otro numero: 23\n",
      "Escriba otro numero: 20\n",
      "15 23 20\n",
      "[15, 23, 20]\n",
      "La suma total de los numeros introducido es de:  58\n"
     ]
    }
   ],
   "source": [
    "pedirNumeros = []\n",
    "primerNum = int(input(\"Escriba un numero: \"))\n",
    "segundoNum = int(input(\"Escriba otro numero: \"))\n",
    "tercerNum = int(input(\"Escriba otro numero: \"))\n",
    "print(primerNum, segundoNum, tercerNum)\n",
    "\n",
    "pedirNumeros = [primerNum, segundoNum, tercerNum]\n",
    "print(pedirNumeros)\n",
    "\n",
    "print(\"La suma total de los numeros introducido es de: \", sum(pedirNumeros))\n"
   ]
  },
  {
   "cell_type": "markdown",
   "metadata": {},
   "source": [
    "**4) Sobre el ejercicio anterior, queremos mostrar la media aritmética de los elementos de esa lista. Indicar la instrucción necesaria para obtenerla.**\n",
    "\n",
    "*En este caso sabemos que el número de elementos que ha introducido el usuario es 3, pero en otra ocasión podría ser diferente, por lo tanto, no hagáis referencia al número 3 en ningún sitio*"
   ]
  },
  {
   "cell_type": "code",
   "execution_count": 6,
   "metadata": {},
   "outputs": [
    {
     "name": "stdout",
     "output_type": "stream",
     "text": [
      "La media aritmetica de los elementos de la lista es:  19.333333333333332\n"
     ]
    }
   ],
   "source": [
    "#Voy a guardar la suma de pedirNumeros en una nueva variable#\n",
    "sumaTotal = sum(pedirNumeros)\n",
    "cantidadNumDeLaLista = len(pedirNumeros)\n",
    "media = sumaTotal / cantidadNumDeLaLista\n",
    "print(\"La media aritmetica de los elementos de la lista es: \", media)"
   ]
  },
  {
   "cell_type": "markdown",
   "metadata": {},
   "source": [
    "**5) Dada la siguiente matriz de notas (una matriz es una lista de listas anidadas) se observa que cada fila es un listado de notas de un alumno, donde en la última posición de cada lista se encuentra el sumatorio de todas las notas anteriores de esa lista. Pero apreciamos que hay varios errores en los sumatorios de varios alumnos, utilizar la técnica de slicing para acceder a estas posiciones y modificar los valores erroneos de la forma más automatizada posible.**\n",
    "\n",
    "* No vale poner directamente los valores:\n",
    "```python\n",
    "notas[1][3] = 60\n",
    "notas[3][3] = 120\n",
    "```\n",
    "* Hay que buscar una forma automatizada de acceder y modificar esos valores"
   ]
  },
  {
   "cell_type": "code",
   "execution_count": 7,
   "metadata": {},
   "outputs": [
    {
     "name": "stdout",
     "output_type": "stream",
     "text": [
      "[10, 10, 10, 30]\n",
      "[20, 20, 20, 60]\n",
      "[30, 30, 30, 90]\n",
      "[40, 40, 40, 120]\n"
     ]
    }
   ],
   "source": [
    "notas = [ \n",
    "    [10, 10, 10, 30],\n",
    "    [20, 20, 20, 70],\n",
    "    [30, 30, 30, 90],\n",
    "    [40, 40, 40, 130]\n",
    "]\n",
    "#Creo una nueva variable donde voy a almacenar una copia de notas sin los valores erroneos#\n",
    "notasCorregidas = [fila[:-1] + [sum(fila[:-1])] for fila in notas]\n",
    "\n",
    "#Muestro la matriz corregida#\n",
    "for fila in notasCorregidas:\n",
    "    print(fila)"
   ]
  },
  {
   "cell_type": "markdown",
   "metadata": {},
   "source": [
    "**6) Supongamos que obtenemos una cadena de texto corrupta, esta al revés. Esta cadena contiene el nombre y el año de nacimiento de una persona. Formatear dicha cadena para obtener el siguiente formato:**\n",
    "\n",
    "* Empleado ***Nombre*** ***Apellido*** nacido en el año ***Año***\n",
    "\n",
    "*Pista: Para invertir el orden una cadena usando técnicas de slicing se puede utilizar un tercer índice -1: cadena[::-1]*\n"
   ]
  },
  {
   "cell_type": "code",
   "execution_count": 8,
   "metadata": {},
   "outputs": [
    {
     "name": "stdout",
     "output_type": "stream",
     "text": [
      "Empleado Carlos Perez nacido en el año 1985\n"
     ]
    }
   ],
   "source": [
    "cadena = \"zereP solraC,5891\"\n",
    "\n",
    "cadenaInvertida = cadena #Hago una copia de cadena#\n",
    "nombre, añoNacimiento = cadenaInvertida.split(',') #Divido la cadena usando split#\n",
    "nombre = nombre[::-1 ]#Invierto el nombre#\n",
    "añoNacimiento = añoNacimiento[::-1] #Invierto el año de nacimiento#\n",
    "cadenaFormateada = f\"Empleado {nombre} nacido en el año {añoNacimiento}\"\n",
    "\n",
    "print(cadenaFormateada)"
   ]
  },
  {
   "cell_type": "markdown",
   "metadata": {},
   "source": [
    "**7) Practiquemos con conjuntos:**\n",
    "* Crea un conjunto llamado mamíferos que tenga los elementos Gato, León, Caballo, Ballena y Tortuga\n",
    "* Crea un conjunto llamado peces que tenga los elementos Ballena y Sardina\n",
    "* Borra la Tortuga del conjunto mamiíferos\n",
    "* Añade el Pez Payaso al conjunto peces\n",
    "* Imprime los conjuntos por pantalla\n",
    "* Imprime por pantalla los elementos que se encuentren en ambos conjuntos, es decir, que sean mamíferos y peces"
   ]
  },
  {
   "cell_type": "code",
   "execution_count": 9,
   "metadata": {},
   "outputs": [
    {
     "name": "stdout",
     "output_type": "stream",
     "text": [
      "{'Caballo', 'Gato', 'Leon', 'Ballena', 'Tortuga'}\n",
      "{'Sardina', 'Ballena'}\n",
      "{'Caballo', 'Gato', 'Leon', 'Ballena'}\n",
      "{'Sardina', 'Ballena', 'Pez Payaso'}\n",
      "{'Ballena'}\n"
     ]
    }
   ],
   "source": [
    "mamiferos = {\"Gato\", \"Leon\", \"Caballo\", \"Ballena\", \"Tortuga\"}\n",
    "print(mamiferos)\n",
    "peces = {\"Ballena\", \"Sardina\"}\n",
    "print(peces)\n",
    "\n",
    "mamiferos.remove(\"Tortuga\") #Borro tortuga#\n",
    "print(mamiferos)\n",
    "\n",
    "peces.add(\"Pez Payaso\") #Añado pez payaso#\n",
    "print(peces)\n",
    "\n",
    "print(mamiferos & peces) #Imprimo los elementos que se encuentren en ambos sentidos#"
   ]
  },
  {
   "cell_type": "markdown",
   "metadata": {},
   "source": [
    "**8) Practiquemos con diccionarios. Tenemos un diccionario que contiene una serie de productos. Realicemos las tres siguientes tareas:**\n",
    "* Ver productos\n",
    "* Subir el precio a todos los productos\n",
    "* Volver a ver todos los precios (para comprobar que el precio ha subido)\n",
    "\n",
    "Al inicio del programa, se mostrarán todos los productos, tienen que aparecer ordenados con el siguiente formato: <br><code>1 - Arduino - 30€</code><br>\n",
    "Posteriormente, a todos los productos se aplicará una subida del 50% a todos los precios de productos.<br>\n",
    "Y finalmente volveremos a mostrar todos los productos para comprobar la subida de precios."
   ]
  },
  {
   "cell_type": "code",
   "execution_count": 12,
   "metadata": {},
   "outputs": [
    {
     "name": "stdout",
     "output_type": "stream",
     "text": [
      "1 - Arduino - 30€\n",
      "2 - RPi - 70€\n",
      "3 - Print 3D - 300€\n"
     ]
    },
    {
     "ename": "TypeError",
     "evalue": "can't multiply sequence by non-int of type 'float'",
     "output_type": "error",
     "traceback": [
      "\u001b[1;31m---------------------------------------------------------------------------\u001b[0m",
      "\u001b[1;31mTypeError\u001b[0m                                 Traceback (most recent call last)",
      "Cell \u001b[1;32mIn[12], line 9\u001b[0m\n\u001b[0;32m      6\u001b[0m     \u001b[38;5;28mprint\u001b[39m(\u001b[38;5;124mf\u001b[39m\u001b[38;5;124m\"\u001b[39m\u001b[38;5;132;01m{\u001b[39;00mx\u001b[38;5;132;01m}\u001b[39;00m\u001b[38;5;124m - \u001b[39m\u001b[38;5;132;01m{\u001b[39;00mproductos[\u001b[38;5;124m'\u001b[39m\u001b[38;5;124mnombre\u001b[39m\u001b[38;5;124m'\u001b[39m][x\u001b[38;5;241m-\u001b[39m\u001b[38;5;241m1\u001b[39m]\u001b[38;5;132;01m}\u001b[39;00m\u001b[38;5;124m - \u001b[39m\u001b[38;5;132;01m{\u001b[39;00mproductos[\u001b[38;5;124m'\u001b[39m\u001b[38;5;124mprecio\u001b[39m\u001b[38;5;124m'\u001b[39m][x\u001b[38;5;241m-\u001b[39m\u001b[38;5;241m1\u001b[39m]\u001b[38;5;132;01m}\u001b[39;00m\u001b[38;5;124m€\u001b[39m\u001b[38;5;124m\"\u001b[39m) \u001b[38;5;66;03m#Uso un bucle for para recorrer el diccionario e imrpimo con formato#\u001b[39;00m\n\u001b[0;32m      8\u001b[0m \u001b[38;5;28;01mfor\u001b[39;00m x \u001b[38;5;129;01min\u001b[39;00m productos[\u001b[38;5;124m'\u001b[39m\u001b[38;5;124mid\u001b[39m\u001b[38;5;124m'\u001b[39m]:\n\u001b[1;32m----> 9\u001b[0m     productos \u001b[38;5;241m=\u001b[39m [\u001b[38;5;124m'\u001b[39m\u001b[38;5;124mprecio\u001b[39m\u001b[38;5;124m'\u001b[39m][x\u001b[38;5;241m-\u001b[39m\u001b[38;5;241m1\u001b[39m]\u001b[38;5;241m*\u001b[39m\u001b[38;5;241m1.5\u001b[39m \u001b[38;5;66;03m#Uso un bucle for tambien y multiplico el precio por 1.5#\u001b[39;00m\n\u001b[0;32m     11\u001b[0m \u001b[38;5;28;01mfor\u001b[39;00m x \u001b[38;5;129;01min\u001b[39;00m productos[\u001b[38;5;124m'\u001b[39m\u001b[38;5;124mid\u001b[39m\u001b[38;5;124m'\u001b[39m]:\n\u001b[0;32m     12\u001b[0m     \u001b[38;5;28mprint\u001b[39m(\u001b[38;5;124mf\u001b[39m\u001b[38;5;124m\"\u001b[39m\u001b[38;5;132;01m{\u001b[39;00mx\u001b[38;5;132;01m}\u001b[39;00m\u001b[38;5;124m - \u001b[39m\u001b[38;5;132;01m{\u001b[39;00mproductos[\u001b[38;5;124m'\u001b[39m\u001b[38;5;124mnombre\u001b[39m\u001b[38;5;124m'\u001b[39m][x\u001b[38;5;241m-\u001b[39m\u001b[38;5;241m1\u001b[39m]\u001b[38;5;132;01m}\u001b[39;00m\u001b[38;5;124m - \u001b[39m\u001b[38;5;132;01m{\u001b[39;00mproductos[\u001b[38;5;124m'\u001b[39m\u001b[38;5;124mprecio\u001b[39m\u001b[38;5;124m'\u001b[39m][x\u001b[38;5;241m-\u001b[39m\u001b[38;5;241m1\u001b[39m]\u001b[38;5;132;01m}\u001b[39;00m\u001b[38;5;124m€\u001b[39m\u001b[38;5;124m\"\u001b[39m)\n",
      "\u001b[1;31mTypeError\u001b[0m: can't multiply sequence by non-int of type 'float'"
     ]
    }
   ],
   "source": [
    "productos = { 'id':[1,2,3], \n",
    "             'nombre':['Arduino', 'RPi', 'Print 3D'], \n",
    "             'precio': [30, 70, 300] \n",
    "            }\n",
    "for x in productos['id']:\n",
    "    print(f\"{x} - {productos['nombre'][x-1]} - {productos['precio'][x-1]}€\") #Uso un bucle for para recorrer el diccionario e imrpimo con formato#\n",
    "    \n",
    "for x in productos['id']:\n",
    "    productos['precio'][x-1] = productos['precio'][x-1]*1.5 #Uso un bucle for tambien y multiplico el precio por 1.5#\n",
    "   \n",
    "for x in productos['id']:\n",
    "    print(f\"{x} - {productos['nombre'][x-1]} - {productos['precio'][x-1]}€\")\n"
   ]
  }
 ],
 "metadata": {
  "anaconda-cloud": {},
  "kernelspec": {
   "display_name": "Python 3 (ipykernel)",
   "language": "python",
   "name": "python3"
  },
  "language_info": {
   "codemirror_mode": {
    "name": "ipython",
    "version": 3
   },
   "file_extension": ".py",
   "mimetype": "text/x-python",
   "name": "python",
   "nbconvert_exporter": "python",
   "pygments_lexer": "ipython3",
   "version": "3.11.4"
  }
 },
 "nbformat": 4,
 "nbformat_minor": 1
}
