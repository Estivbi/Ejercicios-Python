{
 "cells": [
  {
   "cell_type": "markdown",
   "metadata": {},
   "source": [
    "# Ejercicios Modulo 2. Entrada y salida de datos\n",
    "\n",
    "Consideraciones a tener en cuenta: \n",
    "\n",
    "* Guardar este documento con el siguiente formato para su entrega: __M2_03_nombre_apellido1_apellido2__\n",
    "* Realizar los ejercicios con las herramientas vistas en las sesiones. Aún no hemos llegado a condicionales ni bucles\n",
    "* Comentar el código\n",
    "* Utilizar nombres de variables apropiados, si vais a guardar una nota, llamar a esa variable nota, no n o x"
   ]
  },
  {
   "cell_type": "markdown",
   "metadata": {},
   "source": [
    "## Ejercicios de entrada y salida"
   ]
  },
  {
   "cell_type": "markdown",
   "metadata": {},
   "source": [
    "**1) Utiliza el método input() para realizar las siguientes tareas:**\n",
    "\n",
    "* Pide un número por teclado, muestra el resultado y su tipo (para conocer en que tipo de dato captura la información input())\n",
    "* Pide un número por teclado y asegurate de que capturemos la información en formato int\n",
    "* Pide un número por teclado y asegurate de que capturemos la información en formato float\n",
    "\n",
    "__Comprobar con type que los datos son del tipo correcto__"
   ]
  },
  {
   "cell_type": "code",
   "execution_count": 2,
   "metadata": {},
   "outputs": [
    {
     "name": "stdout",
     "output_type": "stream",
     "text": [
      "Introduce un número: 55\n",
      "<class 'str'>\n"
     ]
    }
   ],
   "source": [
    "#Pide un número por teclado, muestra el resultado y su tipo (para conocer en que tipo de dato captura la información input())#\n",
    "num = input(\"Introduce un número: \")\n",
    "print(type(num))"
   ]
  },
  {
   "cell_type": "code",
   "execution_count": 3,
   "metadata": {},
   "outputs": [
    {
     "name": "stdout",
     "output_type": "stream",
     "text": [
      "Introduce un numero: 33\n",
      "<class 'int'>\n"
     ]
    }
   ],
   "source": [
    "#Pide un número por teclado y asegurate de que capturemos la información en formato int#\n",
    "num1 = input(\"Introduce un numero: \")\n",
    "num1 = int(num1) #Hago el casting#\n",
    "print(type(num1))"
   ]
  },
  {
   "cell_type": "code",
   "execution_count": 5,
   "metadata": {},
   "outputs": [
    {
     "name": "stdout",
     "output_type": "stream",
     "text": [
      "Introduce un número con decimales: 165.3214\n",
      "<class 'float'>\n"
     ]
    }
   ],
   "source": [
    "#Pide un número por teclado y asegurate de que capturemos la información en formato float#\n",
    "num2 = input(\"Introduce un número con decimales: \")\n",
    "num2 = float(num2)\n",
    "print(type(num2))"
   ]
  },
  {
   "cell_type": "code",
   "execution_count": 6,
   "metadata": {},
   "outputs": [
    {
     "name": "stdout",
     "output_type": "stream",
     "text": [
      "198.3214\n",
      "<class 'float'>\n"
     ]
    }
   ],
   "source": [
    "print(num1 + num2)\n",
    "print(type(num1 + num2)) #muestro el valor de la suma de num1 y num2"
   ]
  },
  {
   "cell_type": "markdown",
   "metadata": {},
   "source": [
    "**2) Vamos a formatear números:**\n",
    "\n",
    "* Pide un numero entero por teclado\n",
    "* Muéstralo con el formato de 5 dígitos rellenos con 0s por delante\n",
    "* Pide un número flotante por teclado\n",
    "* Muéstralo con 5 dígitos para la parte entera y 3 dígitos para la parte decimal"
   ]
  },
  {
   "cell_type": "code",
   "execution_count": 7,
   "metadata": {},
   "outputs": [
    {
     "name": "stdout",
     "output_type": "stream",
     "text": [
      "Introduce un número entero: 45\n",
      "00045\n",
      "Introduce un número decimal: 23.48\n",
      "23.480\n"
     ]
    }
   ],
   "source": [
    "#Pide un numero entero por teclado#\n",
    "num = int(input(\"Introduce un número entero: \"))\n",
    "\n",
    "#Muéstralo con el formato de 5 dígitos rellenos con 0s por delante#\n",
    "print(\"{:05d}\".format(num))\n",
    "\n",
    "#Pide un número flotante por teclado#\n",
    "numFloat = float(input(\"Introduce un número decimal: \"))\n",
    "\n",
    "#Muéstralo con 5 dígitos para la parte entera y 3 dígitos para la parte decimal#\n",
    "print(\"{:05.3f}\".format(numFloat))"
   ]
  },
  {
   "cell_type": "markdown",
   "metadata": {},
   "source": [
    "**3) Vamos a ponernos creativos. ¿Cuántas formas tienes de mostrar esta información?**<bR>\n",
    "<code>La altura es de 1,80 metros y el peso es de 80,135 KG</code>\n",
    "    \n",
    "Siendo la altura y el peso dos variables que se recojan con 2 inputs\n",
    "    \n",
    "__Pista: format() se puede usar de varias formas__"
   ]
  },
  {
   "cell_type": "code",
   "execution_count": 1,
   "metadata": {},
   "outputs": [
    {
     "name": "stdout",
     "output_type": "stream",
     "text": [
      "Introduce la altura: 1.80\n",
      "Introduce el peso: 80.135\n",
      "La altura es de 1.8 metros y el peso es de 80.135 KG\n",
      "La altura es de 1.8 metros y el peso es de 80.135 KG\n"
     ]
    }
   ],
   "source": [
    "#Usando format#\n",
    "altura = float(input(\"Introduce la altura: \" ))\n",
    "peso = float(input(\"Introduce el peso: \"))\n",
    "print(\"La altura es de {} metros y el peso es de {} KG\".format(altura, peso))\n",
    "\n",
    "#Otra forma, usando , como concatenacion del texto en print y las variables#\n",
    "print(\"La altura es de\" , altura , \"metros y el peso es de\" , peso , \"KG\")\n",
    "\n"
   ]
  }
 ],
 "metadata": {
  "anaconda-cloud": {},
  "kernelspec": {
   "display_name": "Python 3 (ipykernel)",
   "language": "python",
   "name": "python3"
  },
  "language_info": {
   "codemirror_mode": {
    "name": "ipython",
    "version": 3
   },
   "file_extension": ".py",
   "mimetype": "text/x-python",
   "name": "python",
   "nbconvert_exporter": "python",
   "pygments_lexer": "ipython3",
   "version": "3.11.4"
  }
 },
 "nbformat": 4,
 "nbformat_minor": 1
}
