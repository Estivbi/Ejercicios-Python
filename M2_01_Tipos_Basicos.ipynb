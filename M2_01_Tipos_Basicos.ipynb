{
 "cells": [
  {
   "cell_type": "markdown",
   "metadata": {},
   "source": [
    "# Ejercicios Modulo 2. Tipos básicos\n",
    "\n",
    "Consideraciones a tener en cuenta: \n",
    "\n",
    "* Guardar este documento con el siguiente formato para su entrega: __M2_01_nombre_apellido1_apellido2__\n",
    "* Realizar los ejercicios con las herramientas vistas en las sesiones. Aún no hemos llegado a condicionales ni bucles\n",
    "* Comentar el código\n",
    "* Utilizar nombres de variables apropiados, si vais a guardar una nota, llamar a esa variable nota, no n o x"
   ]
  },
  {
   "cell_type": "markdown",
   "metadata": {},
   "source": [
    "## Ejercicios de tipos de variables básicos"
   ]
  },
  {
   "cell_type": "markdown",
   "metadata": {},
   "source": [
    "**1) Indica un ejemplo de un tipo de dato:**\n",
    "* entero\n",
    "* flotante\n",
    "* string\n",
    "* booleano"
   ]
  },
  {
   "cell_type": "code",
   "execution_count": null,
   "metadata": {},
   "outputs": [],
   "source": [
    "#Ejemplo con numeros enteros#\n",
    "a = 5"
   ]
  },
  {
   "cell_type": "code",
   "execution_count": null,
   "metadata": {},
   "outputs": [],
   "source": [
    "#Ejemplo con numero flotantes#\n",
    "b = 15.267"
   ]
  },
  {
   "cell_type": "code",
   "execution_count": null,
   "metadata": {},
   "outputs": [],
   "source": [
    "#Ejemplo con String#\n",
    "nombre = \"Carolina\""
   ]
  },
  {
   "cell_type": "code",
   "execution_count": null,
   "metadata": {},
   "outputs": [],
   "source": [
    "#Ejemplo con boolean#\n",
    "luzEncendida = False"
   ]
  },
  {
   "cell_type": "markdown",
   "metadata": {},
   "source": [
    "**2) Crea dos variables que se llamen nombre y apellido, en ellas introduce tu nombre y apellidos y luego prueba lo siguiente e indica el resultado:**\n",
    "\n",
    "```python      \n",
    "nombre + apellido\n",
    "nombre + apellido + \".\"\n",
    "nombre * 3\n",
    "``` "
   ]
  },
  {
   "cell_type": "code",
   "execution_count": 2,
   "metadata": {},
   "outputs": [
    {
     "name": "stdout",
     "output_type": "stream",
     "text": [
      "CarolinaRodriguez\n",
      "CarolinaRodriguez.\n",
      "CarolinaCarolinaCarolina\n"
     ]
    }
   ],
   "source": [
    "nombre = \"Carolina\"\n",
    "apellido = \"Rodriguez\"\n",
    "print (nombre + apellido)\n",
    "print (nombre + apellido + \".\")\n",
    "print (nombre * 3)"
   ]
  },
  {
   "cell_type": "markdown",
   "metadata": {},
   "source": [
    "**3) Retoma el ejercicio anterior, crea una variable que se llame nombreCompleto que una tu nombre y tu apellido con un espacio en el medio. Sobre esta variable, ¿eres capaz a extraer tu nombre utilizando slicing?**"
   ]
  },
  {
   "cell_type": "code",
   "execution_count": 3,
   "metadata": {},
   "outputs": [
    {
     "name": "stdout",
     "output_type": "stream",
     "text": [
      "Carolina Rodriguez\n",
      "Carolina\n"
     ]
    }
   ],
   "source": [
    "nombreCompleto = nombre + \" \" + apellido\n",
    "print (nombreCompleto)\n",
    "print (nombreCompleto[0:8]) #usando slicing para extraer mi nombre"
   ]
  }
 ],
 "metadata": {
  "anaconda-cloud": {},
  "kernelspec": {
   "display_name": "Python 3 (ipykernel)",
   "language": "python",
   "name": "python3"
  },
  "language_info": {
   "codemirror_mode": {
    "name": "ipython",
    "version": 3
   },
   "file_extension": ".py",
   "mimetype": "text/x-python",
   "name": "python",
   "nbconvert_exporter": "python",
   "pygments_lexer": "ipython3",
   "version": "3.11.4"
  }
 },
 "nbformat": 4,
 "nbformat_minor": 1
}
