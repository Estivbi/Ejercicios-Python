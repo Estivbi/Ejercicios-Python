{
 "cells": [
  {
   "cell_type": "markdown",
   "metadata": {},
   "source": [
    "# Ejercicios Modulo 2. Operadores\n",
    "\n",
    "Consideraciones a tener en cuenta: \n",
    "\n",
    "* Guardar este documento con el siguiente formato para su entrega: __M2_02_nombre_apellido1_apellido2__\n",
    "* Realizar los ejercicios con las herramientas vistas en las sesiones. Aún no hemos llegado a condicionales ni bucles\n",
    "* Comentar el código\n",
    "* Utilizar nombres de variables apropiados, si vais a guardar una nota, llamar a esa variable nota, no n o x"
   ]
  },
  {
   "cell_type": "markdown",
   "metadata": {},
   "source": [
    "## Ejercicios de operadores y expresiones"
   ]
  },
  {
   "cell_type": "markdown",
   "metadata": {},
   "source": [
    "**1) Crear 5 variables con 5 notas numéricas y realizar la media aritmética. Mostrar el resultado final con un mensaje como este: \"La nota media es 6.0\"**"
   ]
  },
  {
   "cell_type": "code",
   "execution_count": 3,
   "metadata": {},
   "outputs": [
    {
     "name": "stdout",
     "output_type": "stream",
     "text": [
      "La nota media es 6.3\n"
     ]
    }
   ],
   "source": [
    "#Voy a calcular la media de las notas de 5 alumnos#\n",
    "alumno1 = 6.25\n",
    "alumno2 = 7.0\n",
    "alumno3 = 4.25\n",
    "alumno4 = 8.0\n",
    "alumno5 = 6.0\n",
    "#Creo la variable totalNotasAlumnos para sumar las notas#\n",
    "totalNotasAlumnos = alumno1 + alumno2 + alumno3 + alumno4 + alumno5\n",
    "#Creo la variable notaMedia para sacar la media de la varibale totalNotasAlumnos#\n",
    "notaMedia = totalNotasAlumnos / 5\n",
    "print (\"La nota media es\" , notaMedia)"
   ]
  },
  {
   "cell_type": "markdown",
   "metadata": {},
   "source": [
    "**2) Busca en la documentación la forma correcta de redondear el siguiente resultado a tan solo 2 decimales: operacion = (365 / 12) * 14.7**"
   ]
  },
  {
   "cell_type": "code",
   "execution_count": 4,
   "metadata": {},
   "outputs": [
    {
     "name": "stdout",
     "output_type": "stream",
     "text": [
      "447.12\n"
     ]
    }
   ],
   "source": [
    "#Para eso es necesario utilizar round#\n",
    "operacion = (365 / 12) * 14.7\n",
    "print (round(operacion , 2)) #agrego a la operacion la varibale operacion y le digo que quiero 2 decimales#"
   ]
  },
  {
   "cell_type": "markdown",
   "metadata": {},
   "source": [
    "**3) Crea dos variables que almacenen 2 strings (username y password). Realizar las siguientes comprobaciones utilizando operadores lógicos:**\n",
    "* Que la longitud de username sea mayor o igual que tres y menor que diez\n",
    "* Que la password sea igual a \"Tokio\" o que sea igual a \"Python\".\n",
    "<br>La salida por pantalla tiene que ser:\n",
    "    * **Username: True o False** (según se haya evaluado)\n",
    "    * **Password: True o False** (según se haya evaluado)"
   ]
  },
  {
   "cell_type": "code",
   "execution_count": 13,
   "metadata": {},
   "outputs": [
    {
     "name": "stdout",
     "output_type": "stream",
     "text": [
      "Username: True\n",
      "Password: False\n"
     ]
    }
   ],
   "source": [
    "username = \"Carolina\"\n",
    "password = \"1234\"\n",
    "\n",
    "#longitud de username sea mayor o igual que tres y menor que diez#\n",
    "print(\"Username:\" , len(username) >= 3 and len(username) < 10)\n",
    "\n",
    "#password sea igual a \"Tokio\" o que sea igual a \"Python\"#\n",
    "print(\"Password:\" , len(password) == \"Tokio\" or len(password) == \"Python\")"
   ]
  },
  {
   "cell_type": "markdown",
   "metadata": {},
   "source": [
    "**4) Practiquemos con los operadores de asignación (=, +=, *=, etc.):**\n",
    "* Crea dos variables y asignales los números que quieras\n",
    "* Incrementale a num1 su valor en 1\n",
    "* Decrementale a num2 su valor en 2\n",
    "* Multiplica num1 por 3 y actualiza su valor\n",
    "* Dividide num2 por 2 y actualiza su valor\n",
    "* Muestra los resultados"
   ]
  },
  {
   "cell_type": "code",
   "execution_count": 21,
   "metadata": {},
   "outputs": [
    {
     "name": "stdout",
     "output_type": "stream",
     "text": [
      "num1 = 12\n",
      "num2 = 2\n"
     ]
    }
   ],
   "source": [
    "num1 = 3\n",
    "num2 = 6\n",
    "\n",
    "#Incrementale a num1 su valor en 1#\n",
    "num1 += 1\n",
    "\n",
    "#Decrementale a num2 su valor en 2#\n",
    "num2 -= 2\n",
    "\n",
    "#Multiplica num1 por 3 y actualiza su valor#\n",
    "num1 *= 3\n",
    "\n",
    "#Dividide num2 por 2 y actualiza su valor#\n",
    "num2 //= 2 #uso doble // para sacar la división entera\n",
    "\n",
    "#Imprimo las variables para obtener su valor actual#\n",
    "print(\"num1 =\" , num1)\n",
    "print (\"num2 =\" , num2)"
   ]
  }
 ],
 "metadata": {
  "anaconda-cloud": {},
  "kernelspec": {
   "display_name": "Python 3 (ipykernel)",
   "language": "python",
   "name": "python3"
  },
  "language_info": {
   "codemirror_mode": {
    "name": "ipython",
    "version": 3
   },
   "file_extension": ".py",
   "mimetype": "text/x-python",
   "name": "python",
   "nbconvert_exporter": "python",
   "pygments_lexer": "ipython3",
   "version": "3.11.4"
  }
 },
 "nbformat": 4,
 "nbformat_minor": 1
}
